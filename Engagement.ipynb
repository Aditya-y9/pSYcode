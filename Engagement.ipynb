{
  "nbformat": 4,
  "nbformat_minor": 0,
  "metadata": {
    "colab": {
      "provenance": [],
      "authorship_tag": "ABX9TyNN4dlhLjXwQl7dHanBZBVh",
      "include_colab_link": true
    },
    "kernelspec": {
      "name": "python3",
      "display_name": "Python 3"
    },
    "language_info": {
      "name": "python"
    }
  },
  "cells": [
    {
      "cell_type": "markdown",
      "metadata": {
        "id": "view-in-github",
        "colab_type": "text"
      },
      "source": [
        "<a href=\"https://colab.research.google.com/github/Aditya-y9/pSYcode/blob/Aditya/Engagement.ipynb\" target=\"_parent\"><img src=\"https://colab.research.google.com/assets/colab-badge.svg\" alt=\"Open In Colab\"/></a>"
      ]
    },
    {
      "cell_type": "code",
      "execution_count": 1,
      "metadata": {
        "id": "I3cdt9jZh7t9"
      },
      "outputs": [],
      "source": [
        "# This Python 3 environment comes with many helpful analytics libraries installed\n",
        "# It is defined by the kaggle/python Docker image: https://github.com/kaggle/docker-python\n",
        "# For example, here's several helpful packages to load\n",
        "\n",
        "import numpy as np # linear algebra\n",
        "import pandas as pd # data processing, CSV file I/O (e.g. pd.read_csv)\n",
        "\n",
        "\n",
        "# Input data files are available in the read-only \"../input/\" directory\n",
        "# For example, running this (by clicking run or pressing Shift+Enter) will list all files under the input directory\n",
        "\n",
        "import os\n",
        "for dirname, _, filenames in os.walk('/kaggle/input'):\n",
        "    for filename in filenames:\n",
        "        print(os.path.join(dirname, filename))\n",
        "\n",
        "# You can write up to 20GB to the current directory (/kaggle/working/) that gets preserved as output when you create a version using \"Save & Run All\"\n",
        "# You can also write temporary files to /kaggle/temp/, but they won't be saved outside of the current session"
      ]
    },
    {
      "cell_type": "code",
      "source": [
        "from sklearn.linear_model import LogisticRegression, LinearRegression\n",
        "from sklearn.model_selection import train_test_split\n",
        "\n",
        "\n",
        "\n",
        "full=pd.read_csv('/content/Instagram User Stats.csv', sep=',', na_values='NaN')"
      ],
      "metadata": {
        "id": "x73rkh6diAJ_"
      },
      "execution_count": 3,
      "outputs": []
    },
    {
      "cell_type": "code",
      "source": [
        "# print(full)\n",
        "headers = list(full.columns.values)\n",
        "# print(headers)\n",
        "X = np.array(full[headers[1:-2]])\n",
        "y = np.array(full[headers[-1]])\n",
        "\n",
        "\n",
        "X[:,0] = np.log(X[:,0]+2)\n",
        "X[:,1] = np.log(X[:,1]+2)\n",
        "X[:,2] = np.log(X[:,2]+2)\n",
        "X[:,3] = X[:,3] * 10\n",
        "\n",
        "X_train, X_test, y_train, y_test = train_test_split(X, y, test_size=0.33,\n",
        "random_state=42)\n",
        "print(full)\n",
        "print(X)"
      ],
      "metadata": {
        "colab": {
          "base_uri": "https://localhost:8080/"
        },
        "id": "NmdD0S6XiCb-",
        "outputId": "be965b15-afa8-4276-ff7e-633461c696db"
      },
      "execution_count": 4,
      "outputs": [
        {
          "output_type": "stream",
          "name": "stdout",
          "text": [
            "          id  pos    flr   flg      eg         er        fg       op\n",
            "0          1  702    906   677  0.1891   6.070640  1.177860  14.8936\n",
            "1          2  160    386   713  0.1950   6.260800  0.094127  16.9811\n",
            "2          3  851  20400  3700  0.0664   0.717416  2.242440  38.2166\n",
            "3          4   42    900  7500  0.0592   1.901230  7.643310  60.1626\n",
            "4          5   50    486  4350  0.5112  16.409500  0.372900  61.9403\n",
            "...      ...  ...    ...   ...     ...        ...       ...      ...\n",
            "70404  70405   78    149   199  0.2497   8.016400  0.410959  45.0704\n",
            "70405  70406   27     64    48  0.4511  14.479200  0.970664  10.3448\n",
            "70406  70407   85    506   652  0.1201   3.853750  0.000000  43.1507\n",
            "70407  70408   57    107    31  0.4222  13.551400 -1.675880  42.3729\n",
            "70408  70409   53    208   336  0.2713   8.707260  0.590125  38.3562\n",
            "\n",
            "[70409 rows x 8 columns]\n",
            "[[ 6.55677836  6.81124438  6.52062113  1.891       6.07064   ]\n",
            " [ 5.08759634  5.96100534  6.57228254  1.95        6.2608    ]\n",
            " [ 6.74875955  9.92338821  8.21662849  0.664       0.717416  ]\n",
            " ...\n",
            " [ 4.46590812  6.23048145  6.48310735  1.201       3.85375   ]\n",
            " [ 4.07753744  4.69134788  3.49650756  4.222      13.5514    ]\n",
            " [ 4.00733319  5.34710753  5.8230459   2.713       8.70726   ]]\n"
          ]
        }
      ]
    },
    {
      "cell_type": "code",
      "source": [
        "clf = LinearRegression()\n",
        "clf.fit(X, y)\n",
        "print(\"LinearRegression\")\n",
        "print(clf.score(X_train,y_train))\n",
        "print(clf.predict(X_train))\n",
        "print(y_train)"
      ],
      "metadata": {
        "colab": {
          "base_uri": "https://localhost:8080/"
        },
        "id": "90tZSeYDiGtT",
        "outputId": "da153de1-ed74-4459-f8d5-32c480913ed4"
      },
      "execution_count": 5,
      "outputs": [
        {
          "output_type": "stream",
          "name": "stdout",
          "text": [
            "LinearRegression\n",
            "0.13472921883578115\n",
            "[60.627843   34.67072114 52.28283125 ... 58.89379558 50.45037734\n",
            " 48.88925793]\n",
            "[29.2308 49.4382 47.8417 ... 83.9623 58.9474 53.3333]\n"
          ]
        }
      ]
    },
    {
      "cell_type": "code",
      "source": [
        "growth=np.array(full['fg'])\n",
        "engagement_grade = np.array(full['eg'])*10 #relative to follower count\n",
        "engagement_rate = np.array(full['er'])*10 #relative to follower count\n",
        "posts = np.log(full['pos']+2) #number of posts\n",
        "followers = np.log(full['flr']+2)\n",
        "following = np.log(full['flg']+2)\n",
        "\n",
        "\n",
        "\n",
        "compare = np.vstack(( posts,followers,following, engagement_grade,engagement_rate, growth )).T\n",
        "\n",
        "\n",
        "\n",
        "\n",
        "visibility = np.array(full['op'])\n",
        "\n",
        "clf = LinearRegression()\n",
        "clf.fit(compare, visibility)\n",
        "print(\"LinearRegression\")\n",
        "print(clf.score(compare,visibility))\n",
        "print(clf.coef_)"
      ],
      "metadata": {
        "colab": {
          "base_uri": "https://localhost:8080/"
        },
        "id": "KPpJojebieak",
        "outputId": "c647b1f4-1724-449d-d934-1cc29ac08ec4"
      },
      "execution_count": 6,
      "outputs": [
        {
          "output_type": "stream",
          "name": "stdout",
          "text": [
            "LinearRegression\n",
            "0.14125069280183744\n",
            "[-2.1485043  -6.76438655  6.22247104 -0.45963088  0.03637827 -0.77078732]\n"
          ]
        }
      ]
    },
    {
      "cell_type": "code",
      "source": [
        "import matplotlib.pyplot as plt\n",
        "import seaborn as sns\n",
        "\n",
        "\n",
        "\n",
        "\n",
        "f, axes = plt.subplots(3, 2, figsize=(7, 7))\n",
        "sns.distplot( np.log(full[\"pos\"]+1) , color=\"skyblue\", ax=axes[0, 0])\n",
        "sns.distplot( np.log(full[\"flr\"]+1) , color=\"olive\", ax=axes[0, 1])\n",
        "sns.distplot( full[\"flg\"] , color=\"gold\", ax=axes[1, 0])\n",
        "sns.distplot( full[\"er\"] , color=\"teal\", ax=axes[1, 1])\n"
      ],
      "metadata": {
        "colab": {
          "base_uri": "https://localhost:8080/",
          "height": 1000
        },
        "id": "KcaOk5WUifmc",
        "outputId": "03df1986-6f65-4b12-b52f-693d26042298"
      },
      "execution_count": 8,
      "outputs": [
        {
          "output_type": "stream",
          "name": "stderr",
          "text": [
            "<ipython-input-8-13f3cc3c8a63>:8: UserWarning: \n",
            "\n",
            "`distplot` is a deprecated function and will be removed in seaborn v0.14.0.\n",
            "\n",
            "Please adapt your code to use either `displot` (a figure-level function with\n",
            "similar flexibility) or `histplot` (an axes-level function for histograms).\n",
            "\n",
            "For a guide to updating your code to use the new functions, please see\n",
            "https://gist.github.com/mwaskom/de44147ed2974457ad6372750bbe5751\n",
            "\n",
            "  sns.distplot( np.log(full[\"pos\"]+1) , color=\"skyblue\", ax=axes[0, 0])\n",
            "<ipython-input-8-13f3cc3c8a63>:9: UserWarning: \n",
            "\n",
            "`distplot` is a deprecated function and will be removed in seaborn v0.14.0.\n",
            "\n",
            "Please adapt your code to use either `displot` (a figure-level function with\n",
            "similar flexibility) or `histplot` (an axes-level function for histograms).\n",
            "\n",
            "For a guide to updating your code to use the new functions, please see\n",
            "https://gist.github.com/mwaskom/de44147ed2974457ad6372750bbe5751\n",
            "\n",
            "  sns.distplot( np.log(full[\"flr\"]+1) , color=\"olive\", ax=axes[0, 1])\n",
            "<ipython-input-8-13f3cc3c8a63>:10: UserWarning: \n",
            "\n",
            "`distplot` is a deprecated function and will be removed in seaborn v0.14.0.\n",
            "\n",
            "Please adapt your code to use either `displot` (a figure-level function with\n",
            "similar flexibility) or `histplot` (an axes-level function for histograms).\n",
            "\n",
            "For a guide to updating your code to use the new functions, please see\n",
            "https://gist.github.com/mwaskom/de44147ed2974457ad6372750bbe5751\n",
            "\n",
            "  sns.distplot( full[\"flg\"] , color=\"gold\", ax=axes[1, 0])\n",
            "<ipython-input-8-13f3cc3c8a63>:11: UserWarning: \n",
            "\n",
            "`distplot` is a deprecated function and will be removed in seaborn v0.14.0.\n",
            "\n",
            "Please adapt your code to use either `displot` (a figure-level function with\n",
            "similar flexibility) or `histplot` (an axes-level function for histograms).\n",
            "\n",
            "For a guide to updating your code to use the new functions, please see\n",
            "https://gist.github.com/mwaskom/de44147ed2974457ad6372750bbe5751\n",
            "\n",
            "  sns.distplot( full[\"er\"] , color=\"teal\", ax=axes[1, 1])\n"
          ]
        },
        {
          "output_type": "execute_result",
          "data": {
            "text/plain": [
              "<Axes: xlabel='er', ylabel='Density'>"
            ]
          },
          "metadata": {},
          "execution_count": 8
        },
        {
          "output_type": "display_data",
          "data": {
            "text/plain": [
              "<Figure size 700x700 with 6 Axes>"
            ],
            "image/png": "[encoded data removed]"
          },
          "metadata": {}
        }
      ]
    },
    {
      "cell_type": "code",
      "source": [
        "from sklearn import preprocessing\n",
        "\n",
        "growth=np.array(full['fg'])\n",
        "engagement_rate = np.array(full['er']) #relative to follower count\n",
        "posts = np.log(full['pos']+2) #number of posts\n",
        "followers = np.log(full['flr']+2)\n",
        "following = full['flg']\n",
        "\n",
        "\n",
        "X_train = np.vstack(( engagement_rate,)).T\n",
        "\n",
        "#posts,followers,following,engagement_rate, growth\n",
        "\n",
        "scaler = preprocessing.StandardScaler().fit(X_train)\n",
        "\n",
        "X_train_tranformed = scaler.transform(X_train)\n",
        "\n",
        "\n",
        "visibility = np.array(full['op'])\n",
        "\n",
        "y = followers\n",
        "\n",
        "clf = LinearRegression()\n",
        "clf.fit(X_train_tranformed, y)\n",
        "print(\"LinearRegression\")\n",
        "print(clf.score(X_train_tranformed,y))\n",
        "print(clf.coef_)"
      ],
      "metadata": {
        "colab": {
          "base_uri": "https://localhost:8080/"
        },
        "id": "bHC6I9J5ihps",
        "outputId": "119e042c-aad4-44da-b3a1-2301ae193551"
      },
      "execution_count": 7,
      "outputs": [
        {
          "output_type": "stream",
          "name": "stdout",
          "text": [
            "LinearRegression\n",
            "0.20370921397145025\n",
            "[-0.54778859]\n"
          ]
        }
      ]
    }
  ]
}