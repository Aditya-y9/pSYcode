{
 "cells": [
  {
   "cell_type": "code",
   "execution_count": 1,
   "metadata": {},
   "outputs": [
    {
     "name": "stdout",
     "output_type": "stream",
     "text": [
      "Requirement already satisfied: xgboost in c:\\users\\mshome\\appdata\\local\\programs\\python\\python310\\lib\\site-packages (2.0.3)\n",
      "Requirement already satisfied: scipy in c:\\users\\mshome\\appdata\\local\\programs\\python\\python310\\lib\\site-packages (from xgboost) (1.11.3)\n",
      "Requirement already satisfied: numpy in c:\\users\\mshome\\appdata\\roaming\\python\\python310\\site-packages (from xgboost) (1.26.0)\n",
      "Note: you may need to restart the kernel to use updated packages.\n"
     ]
    },
    {
     "name": "stderr",
     "output_type": "stream",
     "text": [
      "WARNING: Ignoring invalid distribution -ymupdf (c:\\users\\mshome\\appdata\\local\\programs\\python\\python310\\lib\\site-packages)\n",
      "WARNING: Ignoring invalid distribution -ymupdf (c:\\users\\mshome\\appdata\\local\\programs\\python\\python310\\lib\\site-packages)\n",
      "WARNING: Ignoring invalid distribution -ymupdf (c:\\users\\mshome\\appdata\\local\\programs\\python\\python310\\lib\\site-packages)\n",
      "WARNING: Ignoring invalid distribution -ymupdf (c:\\users\\mshome\\appdata\\local\\programs\\python\\python310\\lib\\site-packages)\n",
      "WARNING: Ignoring invalid distribution -ymupdf (c:\\users\\mshome\\appdata\\local\\programs\\python\\python310\\lib\\site-packages)\n",
      "WARNING: Ignoring invalid distribution -ymupdf (c:\\users\\mshome\\appdata\\local\\programs\\python\\python310\\lib\\site-packages)\n",
      "\n",
      "[notice] A new release of pip available: 22.2.2 -> 24.0\n",
      "[notice] To update, run: python.exe -m pip install --upgrade pip\n"
     ]
    }
   ],
   "source": [
    "%pip install xgboost"
   ]
  },
  {
   "cell_type": "code",
   "execution_count": 2,
   "metadata": {},
   "outputs": [],
   "source": [
    "import pandas as pd\n",
    "import numpy as np\n",
    "from matplotlib import pyplot as plt\n",
    "import seaborn as sns\n",
    "%matplotlib inline\n",
    "plt.rcParams['font.size'] = 14\n",
    "\n",
    "from sklearn.model_selection import train_test_split\n",
    "from sklearn.feature_selection import RFE, f_regression\n",
    "from sklearn.tree import DecisionTreeRegressor\n",
    "from sklearn.linear_model import LinearRegression\n",
    "from sklearn.preprocessing import MinMaxScaler\n",
    "from sklearn.ensemble import RandomForestRegressor\n",
    "import xgboost as xgb\n",
    "from sklearn.ensemble import AdaBoostRegressor\n",
    "from sklearn.ensemble import GradientBoostingRegressor\n",
    "from sklearn import metrics \n",
    "from IPython.display import Image\n",
    "\n"
   ]
  },
  {
   "cell_type": "markdown",
   "metadata": {},
   "source": [
    "# DATA CLEANSING AND ANALYSIS\n"
   ]
  },
  {
   "cell_type": "code",
   "execution_count": 3,
   "metadata": {
    "scrolled": true
   },
   "outputs": [
    {
     "ename": "ParserError",
     "evalue": "Error tokenizing data. C error: out of memory",
     "output_type": "error",
     "traceback": [
      "\u001b[1;31m---------------------------------------------------------------------------\u001b[0m",
      "\u001b[1;31mParserError\u001b[0m                               Traceback (most recent call last)",
      "Cell \u001b[1;32mIn[3], line 1\u001b[0m\n\u001b[1;32m----> 1\u001b[0m df \u001b[38;5;241m=\u001b[39m \u001b[43mpd\u001b[49m\u001b[38;5;241;43m.\u001b[39;49m\u001b[43mread_csv\u001b[49m\u001b[43m(\u001b[49m\u001b[38;5;124;43m'\u001b[39;49m\u001b[38;5;124;43mtrain.csv\u001b[39;49m\u001b[38;5;124;43m'\u001b[39;49m\u001b[43m,\u001b[49m\u001b[43m \u001b[49m\u001b[43m)\u001b[49m\n\u001b[0;32m      2\u001b[0m df\u001b[38;5;241m.\u001b[39mhead()\n",
      "File \u001b[1;32mc:\\Users\\MSHOME\\AppData\\Local\\Programs\\Python\\Python310\\lib\\site-packages\\pandas\\io\\parsers\\readers.py:948\u001b[0m, in \u001b[0;36mread_csv\u001b[1;34m(filepath_or_buffer, sep, delimiter, header, names, index_col, usecols, dtype, engine, converters, true_values, false_values, skipinitialspace, skiprows, skipfooter, nrows, na_values, keep_default_na, na_filter, verbose, skip_blank_lines, parse_dates, infer_datetime_format, keep_date_col, date_parser, date_format, dayfirst, cache_dates, iterator, chunksize, compression, thousands, decimal, lineterminator, quotechar, quoting, doublequote, escapechar, comment, encoding, encoding_errors, dialect, on_bad_lines, delim_whitespace, low_memory, memory_map, float_precision, storage_options, dtype_backend)\u001b[0m\n\u001b[0;32m    935\u001b[0m kwds_defaults \u001b[38;5;241m=\u001b[39m _refine_defaults_read(\n\u001b[0;32m    936\u001b[0m     dialect,\n\u001b[0;32m    937\u001b[0m     delimiter,\n\u001b[1;32m   (...)\u001b[0m\n\u001b[0;32m    944\u001b[0m     dtype_backend\u001b[38;5;241m=\u001b[39mdtype_backend,\n\u001b[0;32m    945\u001b[0m )\n\u001b[0;32m    946\u001b[0m kwds\u001b[38;5;241m.\u001b[39mupdate(kwds_defaults)\n\u001b[1;32m--> 948\u001b[0m \u001b[38;5;28;01mreturn\u001b[39;00m \u001b[43m_read\u001b[49m\u001b[43m(\u001b[49m\u001b[43mfilepath_or_buffer\u001b[49m\u001b[43m,\u001b[49m\u001b[43m \u001b[49m\u001b[43mkwds\u001b[49m\u001b[43m)\u001b[49m\n",
      "File \u001b[1;32mc:\\Users\\MSHOME\\AppData\\Local\\Programs\\Python\\Python310\\lib\\site-packages\\pandas\\io\\parsers\\readers.py:611\u001b[0m, in \u001b[0;36m_read\u001b[1;34m(filepath_or_buffer, kwds)\u001b[0m\n\u001b[0;32m    608\u001b[0m _validate_names(kwds\u001b[38;5;241m.\u001b[39mget(\u001b[38;5;124m\"\u001b[39m\u001b[38;5;124mnames\u001b[39m\u001b[38;5;124m\"\u001b[39m, \u001b[38;5;28;01mNone\u001b[39;00m))\n\u001b[0;32m    610\u001b[0m \u001b[38;5;66;03m# Create the parser.\u001b[39;00m\n\u001b[1;32m--> 611\u001b[0m parser \u001b[38;5;241m=\u001b[39m TextFileReader(filepath_or_buffer, \u001b[38;5;241m*\u001b[39m\u001b[38;5;241m*\u001b[39mkwds)\n\u001b[0;32m    613\u001b[0m \u001b[38;5;28;01mif\u001b[39;00m chunksize \u001b[38;5;129;01mor\u001b[39;00m iterator:\n\u001b[0;32m    614\u001b[0m     \u001b[38;5;28;01mreturn\u001b[39;00m parser\n",
      "File \u001b[1;32mc:\\Users\\MSHOME\\AppData\\Local\\Programs\\Python\\Python310\\lib\\site-packages\\pandas\\io\\parsers\\readers.py:1448\u001b[0m, in \u001b[0;36mTextFileReader.__init__\u001b[1;34m(self, f, engine, **kwds)\u001b[0m\n\u001b[0;32m   1445\u001b[0m     \u001b[38;5;28mself\u001b[39m\u001b[38;5;241m.\u001b[39moptions[\u001b[38;5;124m\"\u001b[39m\u001b[38;5;124mhas_index_names\u001b[39m\u001b[38;5;124m\"\u001b[39m] \u001b[38;5;241m=\u001b[39m kwds[\u001b[38;5;124m\"\u001b[39m\u001b[38;5;124mhas_index_names\u001b[39m\u001b[38;5;124m\"\u001b[39m]\n\u001b[0;32m   1447\u001b[0m \u001b[38;5;28mself\u001b[39m\u001b[38;5;241m.\u001b[39mhandles: IOHandles \u001b[38;5;241m|\u001b[39m \u001b[38;5;28;01mNone\u001b[39;00m \u001b[38;5;241m=\u001b[39m \u001b[38;5;28;01mNone\u001b[39;00m\n\u001b[1;32m-> 1448\u001b[0m \u001b[38;5;28mself\u001b[39m\u001b[38;5;241m.\u001b[39m_engine \u001b[38;5;241m=\u001b[39m \u001b[38;5;28;43mself\u001b[39;49m\u001b[38;5;241;43m.\u001b[39;49m\u001b[43m_make_engine\u001b[49m\u001b[43m(\u001b[49m\u001b[43mf\u001b[49m\u001b[43m,\u001b[49m\u001b[43m \u001b[49m\u001b[38;5;28;43mself\u001b[39;49m\u001b[38;5;241;43m.\u001b[39;49m\u001b[43mengine\u001b[49m\u001b[43m)\u001b[49m\n",
      "File \u001b[1;32mc:\\Users\\MSHOME\\AppData\\Local\\Programs\\Python\\Python310\\lib\\site-packages\\pandas\\io\\parsers\\readers.py:1723\u001b[0m, in \u001b[0;36mTextFileReader._make_engine\u001b[1;34m(self, f, engine)\u001b[0m\n\u001b[0;32m   1720\u001b[0m     \u001b[38;5;28;01mraise\u001b[39;00m \u001b[38;5;167;01mValueError\u001b[39;00m(msg)\n\u001b[0;32m   1722\u001b[0m \u001b[38;5;28;01mtry\u001b[39;00m:\n\u001b[1;32m-> 1723\u001b[0m     \u001b[38;5;28;01mreturn\u001b[39;00m mapping[engine](f, \u001b[38;5;241m*\u001b[39m\u001b[38;5;241m*\u001b[39m\u001b[38;5;28mself\u001b[39m\u001b[38;5;241m.\u001b[39moptions)\n\u001b[0;32m   1724\u001b[0m \u001b[38;5;28;01mexcept\u001b[39;00m \u001b[38;5;167;01mException\u001b[39;00m:\n\u001b[0;32m   1725\u001b[0m     \u001b[38;5;28;01mif\u001b[39;00m \u001b[38;5;28mself\u001b[39m\u001b[38;5;241m.\u001b[39mhandles \u001b[38;5;129;01mis\u001b[39;00m \u001b[38;5;129;01mnot\u001b[39;00m \u001b[38;5;28;01mNone\u001b[39;00m:\n",
      "File \u001b[1;32mc:\\Users\\MSHOME\\AppData\\Local\\Programs\\Python\\Python310\\lib\\site-packages\\pandas\\io\\parsers\\c_parser_wrapper.py:93\u001b[0m, in \u001b[0;36mCParserWrapper.__init__\u001b[1;34m(self, src, **kwds)\u001b[0m\n\u001b[0;32m     90\u001b[0m \u001b[38;5;28;01mif\u001b[39;00m kwds[\u001b[38;5;124m\"\u001b[39m\u001b[38;5;124mdtype_backend\u001b[39m\u001b[38;5;124m\"\u001b[39m] \u001b[38;5;241m==\u001b[39m \u001b[38;5;124m\"\u001b[39m\u001b[38;5;124mpyarrow\u001b[39m\u001b[38;5;124m\"\u001b[39m:\n\u001b[0;32m     91\u001b[0m     \u001b[38;5;66;03m# Fail here loudly instead of in cython after reading\u001b[39;00m\n\u001b[0;32m     92\u001b[0m     import_optional_dependency(\u001b[38;5;124m\"\u001b[39m\u001b[38;5;124mpyarrow\u001b[39m\u001b[38;5;124m\"\u001b[39m)\n\u001b[1;32m---> 93\u001b[0m \u001b[38;5;28mself\u001b[39m\u001b[38;5;241m.\u001b[39m_reader \u001b[38;5;241m=\u001b[39m parsers\u001b[38;5;241m.\u001b[39mTextReader(src, \u001b[38;5;241m*\u001b[39m\u001b[38;5;241m*\u001b[39mkwds)\n\u001b[0;32m     95\u001b[0m \u001b[38;5;28mself\u001b[39m\u001b[38;5;241m.\u001b[39munnamed_cols \u001b[38;5;241m=\u001b[39m \u001b[38;5;28mself\u001b[39m\u001b[38;5;241m.\u001b[39m_reader\u001b[38;5;241m.\u001b[39munnamed_cols\n\u001b[0;32m     97\u001b[0m \u001b[38;5;66;03m# error: Cannot determine type of 'names'\u001b[39;00m\n",
      "File \u001b[1;32mparsers.pyx:579\u001b[0m, in \u001b[0;36mpandas._libs.parsers.TextReader.__cinit__\u001b[1;34m()\u001b[0m\n",
      "File \u001b[1;32mparsers.pyx:668\u001b[0m, in \u001b[0;36mpandas._libs.parsers.TextReader._get_header\u001b[1;34m()\u001b[0m\n",
      "File \u001b[1;32mparsers.pyx:879\u001b[0m, in \u001b[0;36mpandas._libs.parsers.TextReader._tokenize_rows\u001b[1;34m()\u001b[0m\n",
      "File \u001b[1;32mparsers.pyx:890\u001b[0m, in \u001b[0;36mpandas._libs.parsers.TextReader._check_tokenize_status\u001b[1;34m()\u001b[0m\n",
      "File \u001b[1;32mparsers.pyx:2058\u001b[0m, in \u001b[0;36mpandas._libs.parsers.raise_parser_error\u001b[1;34m()\u001b[0m\n",
      "\u001b[1;31mParserError\u001b[0m: Error tokenizing data. C error: out of memory"
     ]
    }
   ],
   "source": [
    "df = pd.read_csv('train.csv', )\n",
    "df.head()"
   ]
  },
  {
   "cell_type": "code",
   "execution_count": null,
   "metadata": {
    "scrolled": true
   },
   "outputs": [
    {
     "name": "stdout",
     "output_type": "stream",
     "text": [
      "<class 'pandas.core.frame.DataFrame'>\n",
      "RangeIndex: 369920 entries, 0 to 369919\n",
      "Data columns (total 7 columns):\n",
      " #   Column     Non-Null Count   Dtype  \n",
      "---  ------     --------------   -----  \n",
      " 0   post_id    369920 non-null  int64  \n",
      " 1   user_id    369920 non-null  int64  \n",
      " 2   country    369920 non-null  int64  \n",
      " 3   category   369920 non-null  object \n",
      " 4   #views     369885 non-null  float64\n",
      " 5   #comments  359309 non-null  float64\n",
      " 6   #likes     369920 non-null  int64  \n",
      "dtypes: float64(2), int64(4), object(1)\n",
      "memory usage: 19.8+ MB\n"
     ]
    }
   ],
   "source": [
    "df.info()"
   ]
  },
  {
   "cell_type": "code",
   "execution_count": null,
   "metadata": {},
   "outputs": [
    {
     "data": {
      "text/html": [
       "<div>\n",
       "<style scoped>\n",
       "    .dataframe tbody tr th:only-of-type {\n",
       "        vertical-align: middle;\n",
       "    }\n",
       "\n",
       "    .dataframe tbody tr th {\n",
       "        vertical-align: top;\n",
       "    }\n",
       "\n",
       "    .dataframe thead th {\n",
       "        text-align: right;\n",
       "    }\n",
       "</style>\n",
       "<table border=\"1\" class=\"dataframe\">\n",
       "  <thead>\n",
       "    <tr style=\"text-align: right;\">\n",
       "      <th></th>\n",
       "      <th>post_id</th>\n",
       "      <th>user_id</th>\n",
       "      <th>country</th>\n",
       "      <th>#views</th>\n",
       "      <th>#comments</th>\n",
       "      <th>#likes</th>\n",
       "    </tr>\n",
       "  </thead>\n",
       "  <tbody>\n",
       "    <tr>\n",
       "      <th>count</th>\n",
       "      <td>369920.000000</td>\n",
       "      <td>369920.000000</td>\n",
       "      <td>369920.000000</td>\n",
       "      <td>3.698850e+05</td>\n",
       "      <td>3.593090e+05</td>\n",
       "      <td>3.699200e+05</td>\n",
       "    </tr>\n",
       "    <tr>\n",
       "      <th>mean</th>\n",
       "      <td>264102.305696</td>\n",
       "      <td>21056.832826</td>\n",
       "      <td>6.700938</td>\n",
       "      <td>5.001114e+05</td>\n",
       "      <td>2.003481e+03</td>\n",
       "      <td>2.310587e+04</td>\n",
       "    </tr>\n",
       "    <tr>\n",
       "      <th>std</th>\n",
       "      <td>152590.609962</td>\n",
       "      <td>12101.006391</td>\n",
       "      <td>4.424512</td>\n",
       "      <td>1.623025e+06</td>\n",
       "      <td>1.209824e+04</td>\n",
       "      <td>8.616847e+04</td>\n",
       "    </tr>\n",
       "    <tr>\n",
       "      <th>min</th>\n",
       "      <td>0.000000</td>\n",
       "      <td>0.000000</td>\n",
       "      <td>0.000000</td>\n",
       "      <td>6.113000e+03</td>\n",
       "      <td>0.000000e+00</td>\n",
       "      <td>1.000000e+00</td>\n",
       "    </tr>\n",
       "    <tr>\n",
       "      <th>25%</th>\n",
       "      <td>131912.750000</td>\n",
       "      <td>10552.000000</td>\n",
       "      <td>3.000000</td>\n",
       "      <td>6.136600e+04</td>\n",
       "      <td>2.110000e+02</td>\n",
       "      <td>2.641000e+03</td>\n",
       "    </tr>\n",
       "    <tr>\n",
       "      <th>50%</th>\n",
       "      <td>264087.000000</td>\n",
       "      <td>21224.000000</td>\n",
       "      <td>6.000000</td>\n",
       "      <td>1.571650e+05</td>\n",
       "      <td>5.730000e+02</td>\n",
       "      <td>7.012000e+03</td>\n",
       "    </tr>\n",
       "    <tr>\n",
       "      <th>75%</th>\n",
       "      <td>396315.250000</td>\n",
       "      <td>31537.000000</td>\n",
       "      <td>11.000000</td>\n",
       "      <td>4.239210e+05</td>\n",
       "      <td>1.523000e+03</td>\n",
       "      <td>1.928500e+04</td>\n",
       "    </tr>\n",
       "    <tr>\n",
       "      <th>max</th>\n",
       "      <td>528460.000000</td>\n",
       "      <td>41773.000000</td>\n",
       "      <td>14.000000</td>\n",
       "      <td>1.779872e+08</td>\n",
       "      <td>1.219455e+06</td>\n",
       "      <td>6.197312e+06</td>\n",
       "    </tr>\n",
       "  </tbody>\n",
       "</table>\n",
       "</div>"
      ],
      "text/plain": [
       "             post_id        user_id        country        #views  \\\n",
       "count  369920.000000  369920.000000  369920.000000  3.698850e+05   \n",
       "mean   264102.305696   21056.832826       6.700938  5.001114e+05   \n",
       "std    152590.609962   12101.006391       4.424512  1.623025e+06   \n",
       "min         0.000000       0.000000       0.000000  6.113000e+03   \n",
       "25%    131912.750000   10552.000000       3.000000  6.136600e+04   \n",
       "50%    264087.000000   21224.000000       6.000000  1.571650e+05   \n",
       "75%    396315.250000   31537.000000      11.000000  4.239210e+05   \n",
       "max    528460.000000   41773.000000      14.000000  1.779872e+08   \n",
       "\n",
       "          #comments        #likes  \n",
       "count  3.593090e+05  3.699200e+05  \n",
       "mean   2.003481e+03  2.310587e+04  \n",
       "std    1.209824e+04  8.616847e+04  \n",
       "min    0.000000e+00  1.000000e+00  \n",
       "25%    2.110000e+02  2.641000e+03  \n",
       "50%    5.730000e+02  7.012000e+03  \n",
       "75%    1.523000e+03  1.928500e+04  \n",
       "max    1.219455e+06  6.197312e+06  "
      ]
     },
     "execution_count": 5,
     "metadata": {},
     "output_type": "execute_result"
    }
   ],
   "source": [
    "df.describe()"
   ]
  },
  {
   "cell_type": "code",
   "execution_count": null,
   "metadata": {
    "scrolled": true
   },
   "outputs": [
    {
     "data": {
      "text/plain": [
       "post_id          0\n",
       "user_id          0\n",
       "country          0\n",
       "category         0\n",
       "#views          35\n",
       "#comments    10611\n",
       "#likes           0\n",
       "dtype: int64"
      ]
     },
     "execution_count": 6,
     "metadata": {},
     "output_type": "execute_result"
    }
   ],
   "source": [
    "df.isnull().sum()"
   ]
  },
  {
   "cell_type": "code",
   "execution_count": null,
   "metadata": {},
   "outputs": [],
   "source": [
    "# drop the missing values\n",
    "df.dropna(inplace= True)"
   ]
  },
  {
   "cell_type": "code",
   "execution_count": null,
   "metadata": {},
   "outputs": [
    {
     "data": {
      "text/html": [
       "<div>\n",
       "<style scoped>\n",
       "    .dataframe tbody tr th:only-of-type {\n",
       "        vertical-align: middle;\n",
       "    }\n",
       "\n",
       "    .dataframe tbody tr th {\n",
       "        vertical-align: top;\n",
       "    }\n",
       "\n",
       "    .dataframe thead th {\n",
       "        text-align: right;\n",
       "    }\n",
       "</style>\n",
       "<table border=\"1\" class=\"dataframe\">\n",
       "  <thead>\n",
       "    <tr style=\"text-align: right;\">\n",
       "      <th></th>\n",
       "      <th>post_id</th>\n",
       "      <th>user_id</th>\n",
       "      <th>country</th>\n",
       "      <th>category</th>\n",
       "      <th>#views</th>\n",
       "      <th>#comments</th>\n",
       "      <th>#likes</th>\n",
       "    </tr>\n",
       "  </thead>\n",
       "  <tbody>\n",
       "    <tr>\n",
       "      <th>0</th>\n",
       "      <td>141569</td>\n",
       "      <td>13588</td>\n",
       "      <td>13</td>\n",
       "      <td>gaming</td>\n",
       "      <td>2403572.0</td>\n",
       "      <td>5606.0</td>\n",
       "      <td>107865</td>\n",
       "    </tr>\n",
       "    <tr>\n",
       "      <th>1</th>\n",
       "      <td>278047</td>\n",
       "      <td>5601</td>\n",
       "      <td>13</td>\n",
       "      <td>gaming</td>\n",
       "      <td>1421234.0</td>\n",
       "      <td>7316.0</td>\n",
       "      <td>68570</td>\n",
       "    </tr>\n",
       "    <tr>\n",
       "      <th>2</th>\n",
       "      <td>278280</td>\n",
       "      <td>31823</td>\n",
       "      <td>13</td>\n",
       "      <td>gaming</td>\n",
       "      <td>1460690.0</td>\n",
       "      <td>9924.0</td>\n",
       "      <td>136786</td>\n",
       "    </tr>\n",
       "    <tr>\n",
       "      <th>3</th>\n",
       "      <td>161305</td>\n",
       "      <td>14424</td>\n",
       "      <td>13</td>\n",
       "      <td>gaming</td>\n",
       "      <td>1463710.0</td>\n",
       "      <td>1087.0</td>\n",
       "      <td>62590</td>\n",
       "    </tr>\n",
       "    <tr>\n",
       "      <th>4</th>\n",
       "      <td>340945</td>\n",
       "      <td>8532</td>\n",
       "      <td>13</td>\n",
       "      <td>gaming</td>\n",
       "      <td>2507066.0</td>\n",
       "      <td>2974.0</td>\n",
       "      <td>21325</td>\n",
       "    </tr>\n",
       "    <tr>\n",
       "      <th>...</th>\n",
       "      <td>...</td>\n",
       "      <td>...</td>\n",
       "      <td>...</td>\n",
       "      <td>...</td>\n",
       "      <td>...</td>\n",
       "      <td>...</td>\n",
       "      <td>...</td>\n",
       "    </tr>\n",
       "    <tr>\n",
       "      <th>369915</th>\n",
       "      <td>440673</td>\n",
       "      <td>6987</td>\n",
       "      <td>1</td>\n",
       "      <td>technology</td>\n",
       "      <td>45459.0</td>\n",
       "      <td>1293.0</td>\n",
       "      <td>3713</td>\n",
       "    </tr>\n",
       "    <tr>\n",
       "      <th>369916</th>\n",
       "      <td>224015</td>\n",
       "      <td>15618</td>\n",
       "      <td>1</td>\n",
       "      <td>technology</td>\n",
       "      <td>313055.0</td>\n",
       "      <td>2500.0</td>\n",
       "      <td>21075</td>\n",
       "    </tr>\n",
       "    <tr>\n",
       "      <th>369917</th>\n",
       "      <td>170246</td>\n",
       "      <td>5816</td>\n",
       "      <td>1</td>\n",
       "      <td>technology</td>\n",
       "      <td>1545014.0</td>\n",
       "      <td>1680.0</td>\n",
       "      <td>98914</td>\n",
       "    </tr>\n",
       "    <tr>\n",
       "      <th>369918</th>\n",
       "      <td>504682</td>\n",
       "      <td>40790</td>\n",
       "      <td>1</td>\n",
       "      <td>technology</td>\n",
       "      <td>244363.0</td>\n",
       "      <td>1669.0</td>\n",
       "      <td>11886</td>\n",
       "    </tr>\n",
       "    <tr>\n",
       "      <th>369919</th>\n",
       "      <td>270864</td>\n",
       "      <td>2706</td>\n",
       "      <td>1</td>\n",
       "      <td>technology</td>\n",
       "      <td>1662561.0</td>\n",
       "      <td>5509.0</td>\n",
       "      <td>92757</td>\n",
       "    </tr>\n",
       "  </tbody>\n",
       "</table>\n",
       "<p>359274 rows × 7 columns</p>\n",
       "</div>"
      ],
      "text/plain": [
       "        post_id  user_id  country    category     #views  #comments  #likes\n",
       "0        141569    13588       13      gaming  2403572.0     5606.0  107865\n",
       "1        278047     5601       13      gaming  1421234.0     7316.0   68570\n",
       "2        278280    31823       13      gaming  1460690.0     9924.0  136786\n",
       "3        161305    14424       13      gaming  1463710.0     1087.0   62590\n",
       "4        340945     8532       13      gaming  2507066.0     2974.0   21325\n",
       "...         ...      ...      ...         ...        ...        ...     ...\n",
       "369915   440673     6987        1  technology    45459.0     1293.0    3713\n",
       "369916   224015    15618        1  technology   313055.0     2500.0   21075\n",
       "369917   170246     5816        1  technology  1545014.0     1680.0   98914\n",
       "369918   504682    40790        1  technology   244363.0     1669.0   11886\n",
       "369919   270864     2706        1  technology  1662561.0     5509.0   92757\n",
       "\n",
       "[359274 rows x 7 columns]"
      ]
     },
     "execution_count": 8,
     "metadata": {},
     "output_type": "execute_result"
    }
   ],
   "source": [
    "df.drop_duplicates()"
   ]
  },
  {
   "cell_type": "code",
   "execution_count": null,
   "metadata": {},
   "outputs": [
    {
     "data": {
      "text/plain": [
       "(359274, 7)"
      ]
     },
     "execution_count": 9,
     "metadata": {},
     "output_type": "execute_result"
    }
   ],
   "source": [
    "df.shape"
   ]
  },
  {
   "cell_type": "code",
   "execution_count": null,
   "metadata": {},
   "outputs": [],
   "source": [
    "df.set_index('post_id', inplace= True)\n"
   ]
  },
  {
   "cell_type": "code",
   "execution_count": null,
   "metadata": {},
   "outputs": [
    {
     "data": {
      "text/html": [
       "<div>\n",
       "<style scoped>\n",
       "    .dataframe tbody tr th:only-of-type {\n",
       "        vertical-align: middle;\n",
       "    }\n",
       "\n",
       "    .dataframe tbody tr th {\n",
       "        vertical-align: top;\n",
       "    }\n",
       "\n",
       "    .dataframe thead th {\n",
       "        text-align: right;\n",
       "    }\n",
       "</style>\n",
       "<table border=\"1\" class=\"dataframe\">\n",
       "  <thead>\n",
       "    <tr style=\"text-align: right;\">\n",
       "      <th></th>\n",
       "      <th>user_id</th>\n",
       "      <th>country</th>\n",
       "      <th>category</th>\n",
       "      <th>#views</th>\n",
       "      <th>#comments</th>\n",
       "      <th>#likes</th>\n",
       "    </tr>\n",
       "    <tr>\n",
       "      <th>post_id</th>\n",
       "      <th></th>\n",
       "      <th></th>\n",
       "      <th></th>\n",
       "      <th></th>\n",
       "      <th></th>\n",
       "      <th></th>\n",
       "    </tr>\n",
       "  </thead>\n",
       "  <tbody>\n",
       "    <tr>\n",
       "      <th>141569</th>\n",
       "      <td>13588</td>\n",
       "      <td>13</td>\n",
       "      <td>gaming</td>\n",
       "      <td>2403572.0</td>\n",
       "      <td>5606.0</td>\n",
       "      <td>107865</td>\n",
       "    </tr>\n",
       "    <tr>\n",
       "      <th>278047</th>\n",
       "      <td>5601</td>\n",
       "      <td>13</td>\n",
       "      <td>gaming</td>\n",
       "      <td>1421234.0</td>\n",
       "      <td>7316.0</td>\n",
       "      <td>68570</td>\n",
       "    </tr>\n",
       "    <tr>\n",
       "      <th>278280</th>\n",
       "      <td>31823</td>\n",
       "      <td>13</td>\n",
       "      <td>gaming</td>\n",
       "      <td>1460690.0</td>\n",
       "      <td>9924.0</td>\n",
       "      <td>136786</td>\n",
       "    </tr>\n",
       "    <tr>\n",
       "      <th>161305</th>\n",
       "      <td>14424</td>\n",
       "      <td>13</td>\n",
       "      <td>gaming</td>\n",
       "      <td>1463710.0</td>\n",
       "      <td>1087.0</td>\n",
       "      <td>62590</td>\n",
       "    </tr>\n",
       "    <tr>\n",
       "      <th>340945</th>\n",
       "      <td>8532</td>\n",
       "      <td>13</td>\n",
       "      <td>gaming</td>\n",
       "      <td>2507066.0</td>\n",
       "      <td>2974.0</td>\n",
       "      <td>21325</td>\n",
       "    </tr>\n",
       "    <tr>\n",
       "      <th>...</th>\n",
       "      <td>...</td>\n",
       "      <td>...</td>\n",
       "      <td>...</td>\n",
       "      <td>...</td>\n",
       "      <td>...</td>\n",
       "      <td>...</td>\n",
       "    </tr>\n",
       "    <tr>\n",
       "      <th>440673</th>\n",
       "      <td>6987</td>\n",
       "      <td>1</td>\n",
       "      <td>technology</td>\n",
       "      <td>45459.0</td>\n",
       "      <td>1293.0</td>\n",
       "      <td>3713</td>\n",
       "    </tr>\n",
       "    <tr>\n",
       "      <th>224015</th>\n",
       "      <td>15618</td>\n",
       "      <td>1</td>\n",
       "      <td>technology</td>\n",
       "      <td>313055.0</td>\n",
       "      <td>2500.0</td>\n",
       "      <td>21075</td>\n",
       "    </tr>\n",
       "    <tr>\n",
       "      <th>170246</th>\n",
       "      <td>5816</td>\n",
       "      <td>1</td>\n",
       "      <td>technology</td>\n",
       "      <td>1545014.0</td>\n",
       "      <td>1680.0</td>\n",
       "      <td>98914</td>\n",
       "    </tr>\n",
       "    <tr>\n",
       "      <th>504682</th>\n",
       "      <td>40790</td>\n",
       "      <td>1</td>\n",
       "      <td>technology</td>\n",
       "      <td>244363.0</td>\n",
       "      <td>1669.0</td>\n",
       "      <td>11886</td>\n",
       "    </tr>\n",
       "    <tr>\n",
       "      <th>270864</th>\n",
       "      <td>2706</td>\n",
       "      <td>1</td>\n",
       "      <td>technology</td>\n",
       "      <td>1662561.0</td>\n",
       "      <td>5509.0</td>\n",
       "      <td>92757</td>\n",
       "    </tr>\n",
       "  </tbody>\n",
       "</table>\n",
       "<p>359274 rows × 6 columns</p>\n",
       "</div>"
      ],
      "text/plain": [
       "         user_id  country    category     #views  #comments  #likes\n",
       "post_id                                                            \n",
       "141569     13588       13      gaming  2403572.0     5606.0  107865\n",
       "278047      5601       13      gaming  1421234.0     7316.0   68570\n",
       "278280     31823       13      gaming  1460690.0     9924.0  136786\n",
       "161305     14424       13      gaming  1463710.0     1087.0   62590\n",
       "340945      8532       13      gaming  2507066.0     2974.0   21325\n",
       "...          ...      ...         ...        ...        ...     ...\n",
       "440673      6987        1  technology    45459.0     1293.0    3713\n",
       "224015     15618        1  technology   313055.0     2500.0   21075\n",
       "170246      5816        1  technology  1545014.0     1680.0   98914\n",
       "504682     40790        1  technology   244363.0     1669.0   11886\n",
       "270864      2706        1  technology  1662561.0     5509.0   92757\n",
       "\n",
       "[359274 rows x 6 columns]"
      ]
     },
     "execution_count": 11,
     "metadata": {},
     "output_type": "execute_result"
    }
   ],
   "source": [
    "df"
   ]
  },
  {
   "cell_type": "code",
   "execution_count": null,
   "metadata": {},
   "outputs": [
    {
     "data": {
      "text/plain": [
       "user_id        int64\n",
       "country        int64\n",
       "category      object\n",
       "#views       float64\n",
       "#comments    float64\n",
       "#likes         int64\n",
       "dtype: object"
      ]
     },
     "execution_count": 12,
     "metadata": {},
     "output_type": "execute_result"
    }
   ],
   "source": [
    "# Convert strings to numbers\n",
    "df.dtypes"
   ]
  },
  {
   "cell_type": "code",
   "execution_count": null,
   "metadata": {},
   "outputs": [
    {
     "data": {
      "text/plain": [
       "Index(['user_id', 'country', 'category', '#views', '#comments', '#likes'], dtype='object')"
      ]
     },
     "execution_count": 13,
     "metadata": {},
     "output_type": "execute_result"
    }
   ],
   "source": [
    "df.columns"
   ]
  },
  {
   "cell_type": "code",
   "execution_count": null,
   "metadata": {
    "scrolled": true
   },
   "outputs": [
    {
     "data": {
      "text/plain": [
       "array(['gaming', 'sports', 'entertainment', 'automotive', 'music',\n",
       "       'animals', 'comedy', 'howTo', 'technology'], dtype=object)"
      ]
     },
     "execution_count": 14,
     "metadata": {},
     "output_type": "execute_result"
    }
   ],
   "source": [
    "df.category.unique()"
   ]
  },
  {
   "cell_type": "code",
   "execution_count": null,
   "metadata": {},
   "outputs": [],
   "source": []
  },
  {
   "cell_type": "markdown",
   "metadata": {},
   "source": [
    "# Visualizing and Examining Data\n"
   ]
  },
  {
   "cell_type": "code",
   "execution_count": null,
   "metadata": {
    "scrolled": true
   },
   "outputs": [
    {
     "data": {
      "text/plain": [
       "[None, None, None, None, None, None]"
      ]
     },
     "execution_count": 15,
     "metadata": {},
     "output_type": "execute_result"
    },
    {
     "data": {
      "image/png": "[encoded data removed]",
      "text/plain": [
       "<Figure size 1600x1600 with 6 Axes>"
      ]
     },
     "metadata": {},
     "output_type": "display_data"
    }
   ],
   "source": [
    "# A histogram of data\n",
    "\n",
    "test=df[['user_id', 'country', 'category', '#views', '#comments', '#likes']]\n",
    "h = test.hist(bins=25,figsize=(16,16), xlabelsize='10',ylabelsize='10',xrot=-15)\n",
    "sns.despine(left=True, bottom=True)\n",
    "[x.title.set_size(12) for x in h.ravel()]\n",
    "[x.yaxis.tick_left() for x in h.ravel()]"
   ]
  },
  {
   "cell_type": "code",
   "execution_count": null,
   "metadata": {},
   "outputs": [
    {
     "data": {
      "text/plain": [
       "Index(['user_id', 'country', 'category', '#views', '#comments', '#likes'], dtype='object')"
      ]
     },
     "execution_count": 16,
     "metadata": {},
     "output_type": "execute_result"
    }
   ],
   "source": [
    "df.columns"
   ]
  },
  {
   "cell_type": "code",
   "execution_count": null,
   "metadata": {},
   "outputs": [],
   "source": []
  },
  {
   "cell_type": "code",
   "execution_count": null,
   "metadata": {},
   "outputs": [
    {
     "name": "stderr",
     "output_type": "stream",
     "text": [
      "c:\\Users\\MSHOME\\AppData\\Local\\Programs\\Python\\Python310\\lib\\site-packages\\seaborn\\axisgrid.py:2100: UserWarning: The `size` parameter has been renamed to `height`; please update your code.\n",
      "  warnings.warn(msg, UserWarning)\n"
     ]
    },
    {
     "data": {
      "text/plain": [
       "<seaborn.axisgrid.PairGrid at 0x24a2f23bcd0>"
      ]
     },
     "execution_count": 17,
     "metadata": {},
     "output_type": "execute_result"
    }
   ],
   "source": [
    "# pairplot\n",
    "\n",
    "sns.pairplot(df[['user_id', 'country', 'category', '#views', '#comments', '#likes']], hue='category', palette='afmhot',size=4)"
   ]
  },
  {
   "cell_type": "markdown",
   "metadata": {},
   "source": [
    "From the pairplots, we seem to get the classical linear distribution of the data points, for example with price against sqft_living. This bodes well as in the latter analysis, we will implement some linear models which we will use in our Feature ranking. Let's look at the correlation heatmap:"
   ]
  },
  {
   "cell_type": "code",
   "execution_count": null,
   "metadata": {
    "scrolled": true
   },
   "outputs": [
    {
     "data": {
      "text/plain": [
       "<matplotlib.axes._subplots.AxesSubplot at 0x20306838088>"
      ]
     },
     "execution_count": 17,
     "metadata": {},
     "output_type": "execute_result"
    },
    {
     "data": {
      "image/png": "[encoded data removed]",
      "text/plain": [
       "<Figure size 1152x864 with 2 Axes>"
      ]
     },
     "metadata": {
      "needs_background": "light"
     },
     "output_type": "display_data"
    }
   ],
   "source": [
    "# Pearson Correlation of features\n",
    "\n",
    "str_list = [] # empty list to contain columns with strings (words)\n",
    "for colname, colvalue in df.iteritems():\n",
    "    if type(colvalue[1]) == str:\n",
    "         str_list.append(colname)\n",
    "# Get to the numeric columns by inversion            \n",
    "num_list = df.columns.difference(str_list) \n",
    "# Create Dataframe containing only numerical features\n",
    "df_num = df[num_list]\n",
    "f, ax = plt.subplots(figsize=(16, 12))\n",
    "plt.title('Pearson Correlation of features')\n",
    "# Draw the heatmap using seaborn\n",
    "#sns.heatmap(df_num.astype(float).corr(),linewidths=0.25,vmax=1.0, square=True, cmap=\"PuBuGn\", linecolor='k', annot=True)\n",
    "sns.heatmap(df_num.astype(float).corr(),linewidths=0.25,vmax=1.0, square=True, cmap=\"cubehelix\", linecolor='k', annot=True)"
   ]
  },
  {
   "cell_type": "code",
   "execution_count": null,
   "metadata": {
    "scrolled": true
   },
   "outputs": [
    {
     "data": {
      "text/plain": [
       "user_id       int64\n",
       "country       int64\n",
       "category     object\n",
       "views       float64\n",
       "comments    float64\n",
       "likes         int64\n",
       "dtype: object"
      ]
     },
     "execution_count": 18,
     "metadata": {},
     "output_type": "execute_result"
    }
   ],
   "source": [
    "df.dtypes"
   ]
  },
  {
   "cell_type": "code",
   "execution_count": null,
   "metadata": {},
   "outputs": [],
   "source": [
    "from sklearn.preprocessing import LabelEncoder\n",
    "le = LabelEncoder()"
   ]
  },
  {
   "cell_type": "code",
   "execution_count": null,
   "metadata": {},
   "outputs": [],
   "source": [
    "# type transform\n",
    "df.category = le.fit_transform(df.category)\n"
   ]
  },
  {
   "cell_type": "code",
   "execution_count": null,
   "metadata": {},
   "outputs": [],
   "source": []
  },
  {
   "cell_type": "markdown",
   "metadata": {},
   "source": [
    "# Feature Importance"
   ]
  },
  {
   "cell_type": "code",
   "execution_count": null,
   "metadata": {},
   "outputs": [
    {
     "data": {
      "image/jpeg": "[encoded data removed]",
      "text/plain": [
       "<IPython.core.display.Image object>"
      ]
     },
     "execution_count": 21,
     "metadata": {
      "image/jpeg": {
       "height": 1600,
       "width": 1600
      }
     },
     "output_type": "execute_result"
    }
   ],
   "source": [
    "Image( \"Feature Importance.jpg\", width=1600, height=1600)\n"
   ]
  },
  {
   "cell_type": "markdown",
   "metadata": {},
   "source": [
    "# Machine Learning Modeling"
   ]
  },
  {
   "cell_type": "code",
   "execution_count": null,
   "metadata": {},
   "outputs": [],
   "source": [
    "# Extract the input variable and target variable\n",
    "X = df[['user_id', 'country', 'category', 'views', 'comments']]   \n",
    "\n",
    "y = df['likes']"
   ]
  },
  {
   "cell_type": "code",
   "execution_count": null,
   "metadata": {},
   "outputs": [],
   "source": [
    "# split original data [i.e X and y] into 70:30\n",
    "X_train, X_test, y_train, y_test = train_test_split(X, y, test_size=0.3, random_state=42)"
   ]
  },
  {
   "cell_type": "code",
   "execution_count": null,
   "metadata": {},
   "outputs": [
    {
     "name": "stdout",
     "output_type": "stream",
     "text": [
      "Root Mean Square Error is: 93.97 %\n"
     ]
    }
   ],
   "source": [
    "# Decision Tree Regressor\n",
    "dt = DecisionTreeRegressor()\n",
    "\n",
    "dt.fit(X_train, y_train)\n",
    "y_test_pred = dt.predict(X_test)\n",
    "\n",
    "print(\"Root Mean Square Error is:\", round(metrics.r2_score(y_test, y_test_pred)*100,2), '%')\n"
   ]
  },
  {
   "cell_type": "code",
   "execution_count": null,
   "metadata": {},
   "outputs": [
    {
     "data": {
      "text/plain": [
       "post_id\n",
       "409316      681\n",
       "27307       137\n",
       "153911    33395\n",
       "101333     6858\n",
       "62107     11677\n",
       "305919     1588\n",
       "12235      3924\n",
       "473232      715\n",
       "149469     1513\n",
       "527560      134\n",
       "Name: likes, dtype: int64"
      ]
     },
     "execution_count": 25,
     "metadata": {},
     "output_type": "execute_result"
    }
   ],
   "source": [
    "y_test[0:10]"
   ]
  },
  {
   "cell_type": "code",
   "execution_count": null,
   "metadata": {},
   "outputs": [
    {
     "data": {
      "text/plain": [
       "array([  387.,   137., 40155.,  6866.,  3793.,  4094.,  3927.,  1432.,\n",
       "        5989.,  1144.])"
      ]
     },
     "execution_count": 26,
     "metadata": {},
     "output_type": "execute_result"
    }
   ],
   "source": [
    "y_test_pred[0:10]"
   ]
  },
  {
   "cell_type": "code",
   "execution_count": null,
   "metadata": {},
   "outputs": [
    {
     "name": "stdout",
     "output_type": "stream",
     "text": [
      "Root Mean Square Error is: 96.73 %\n"
     ]
    }
   ],
   "source": [
    "# Random Forest Regressor\n",
    "rf = RandomForestRegressor(n_estimators = 101, n_jobs= -1, random_state = 41 )\n",
    "rf.fit(X_train, y_train)\n",
    "y_test_pred = rf.predict(X_test)\n",
    "\n",
    "print(\"Root Mean Square Error is:\", round(metrics.r2_score(y_test, y_test_pred)*100,2), '%')\n"
   ]
  },
  {
   "cell_type": "code",
   "execution_count": null,
   "metadata": {},
   "outputs": [
    {
     "data": {
      "text/plain": [
       "post_id\n",
       "409316      681\n",
       "27307       137\n",
       "153911    33395\n",
       "101333     6858\n",
       "62107     11677\n",
       "305919     1588\n",
       "12235      3924\n",
       "473232      715\n",
       "149469     1513\n",
       "527560      134\n",
       "Name: likes, dtype: int64"
      ]
     },
     "execution_count": 28,
     "metadata": {},
     "output_type": "execute_result"
    }
   ],
   "source": [
    "y_test[0:10]"
   ]
  },
  {
   "cell_type": "code",
   "execution_count": null,
   "metadata": {
    "scrolled": true
   },
   "outputs": [
    {
     "data": {
      "text/plain": [
       "array([  512.51485149,  3419.5049505 , 33774.27722772, 10405.73267327,\n",
       "       10851.67326733,  3023.36633663,  3503.77227723,  1174.14851485,\n",
       "       12804.85148515,  1133.17821782])"
      ]
     },
     "execution_count": 29,
     "metadata": {},
     "output_type": "execute_result"
    }
   ],
   "source": [
    "y_test_pred[0:10]"
   ]
  },
  {
   "cell_type": "code",
   "execution_count": null,
   "metadata": {},
   "outputs": [
    {
     "data": {
      "text/html": [
       "<div>\n",
       "<style scoped>\n",
       "    .dataframe tbody tr th:only-of-type {\n",
       "        vertical-align: middle;\n",
       "    }\n",
       "\n",
       "    .dataframe tbody tr th {\n",
       "        vertical-align: top;\n",
       "    }\n",
       "\n",
       "    .dataframe thead th {\n",
       "        text-align: right;\n",
       "    }\n",
       "</style>\n",
       "<table border=\"1\" class=\"dataframe\">\n",
       "  <thead>\n",
       "    <tr style=\"text-align: right;\">\n",
       "      <th></th>\n",
       "      <th>post_id</th>\n",
       "      <th>user_id</th>\n",
       "      <th>country</th>\n",
       "      <th>category</th>\n",
       "      <th>views</th>\n",
       "      <th>comments</th>\n",
       "    </tr>\n",
       "  </thead>\n",
       "  <tbody>\n",
       "    <tr>\n",
       "      <th>0</th>\n",
       "      <td>54149</td>\n",
       "      <td>539</td>\n",
       "      <td>13</td>\n",
       "      <td>gaming</td>\n",
       "      <td>5162733.0</td>\n",
       "      <td>41547.0</td>\n",
       "    </tr>\n",
       "    <tr>\n",
       "      <th>1</th>\n",
       "      <td>169258</td>\n",
       "      <td>24278</td>\n",
       "      <td>13</td>\n",
       "      <td>gaming</td>\n",
       "      <td>2645253.0</td>\n",
       "      <td>21437.0</td>\n",
       "    </tr>\n",
       "    <tr>\n",
       "      <th>2</th>\n",
       "      <td>236048</td>\n",
       "      <td>32636</td>\n",
       "      <td>13</td>\n",
       "      <td>gaming</td>\n",
       "      <td>1037161.0</td>\n",
       "      <td>8775.0</td>\n",
       "    </tr>\n",
       "    <tr>\n",
       "      <th>3</th>\n",
       "      <td>50631</td>\n",
       "      <td>20906</td>\n",
       "      <td>13</td>\n",
       "      <td>gaming</td>\n",
       "      <td>1061029.0</td>\n",
       "      <td>6544.0</td>\n",
       "    </tr>\n",
       "    <tr>\n",
       "      <th>4</th>\n",
       "      <td>53051</td>\n",
       "      <td>526</td>\n",
       "      <td>13</td>\n",
       "      <td>gaming</td>\n",
       "      <td>526061.0</td>\n",
       "      <td>610.0</td>\n",
       "    </tr>\n",
       "  </tbody>\n",
       "</table>\n",
       "</div>"
      ],
      "text/plain": [
       "   post_id  user_id  country category      views  comments\n",
       "0    54149      539       13   gaming  5162733.0   41547.0\n",
       "1   169258    24278       13   gaming  2645253.0   21437.0\n",
       "2   236048    32636       13   gaming  1037161.0    8775.0\n",
       "3    50631    20906       13   gaming  1061029.0    6544.0\n",
       "4    53051      526       13   gaming   526061.0     610.0"
      ]
     },
     "execution_count": 33,
     "metadata": {},
     "output_type": "execute_result"
    }
   ],
   "source": [
    "test = pd.read_csv('test_without_truth.csv', )\n",
    "test.head()"
   ]
  },
  {
   "cell_type": "code",
   "execution_count": null,
   "metadata": {},
   "outputs": [
    {
     "data": {
      "text/plain": [
       "post_id        0\n",
       "user_id        0\n",
       "country        0\n",
       "category       0\n",
       "views         14\n",
       "comments    4551\n",
       "dtype: int64"
      ]
     },
     "execution_count": 34,
     "metadata": {},
     "output_type": "execute_result"
    }
   ],
   "source": [
    "test.isna().sum()"
   ]
  },
  {
   "cell_type": "code",
   "execution_count": null,
   "metadata": {},
   "outputs": [],
   "source": [
    "# Drop missing values\n",
    "test.dropna(inplace=True)"
   ]
  },
  {
   "cell_type": "code",
   "execution_count": null,
   "metadata": {},
   "outputs": [],
   "source": [
    "test.set_index('post_id', inplace= True)"
   ]
  },
  {
   "cell_type": "code",
   "execution_count": null,
   "metadata": {},
   "outputs": [
    {
     "data": {
      "text/html": [
       "<div>\n",
       "<style scoped>\n",
       "    .dataframe tbody tr th:only-of-type {\n",
       "        vertical-align: middle;\n",
       "    }\n",
       "\n",
       "    .dataframe tbody tr th {\n",
       "        vertical-align: top;\n",
       "    }\n",
       "\n",
       "    .dataframe thead th {\n",
       "        text-align: right;\n",
       "    }\n",
       "</style>\n",
       "<table border=\"1\" class=\"dataframe\">\n",
       "  <thead>\n",
       "    <tr style=\"text-align: right;\">\n",
       "      <th></th>\n",
       "      <th>user_id</th>\n",
       "      <th>country</th>\n",
       "      <th>category</th>\n",
       "      <th>views</th>\n",
       "      <th>comments</th>\n",
       "    </tr>\n",
       "    <tr>\n",
       "      <th>post_id</th>\n",
       "      <th></th>\n",
       "      <th></th>\n",
       "      <th></th>\n",
       "      <th></th>\n",
       "      <th></th>\n",
       "    </tr>\n",
       "  </thead>\n",
       "  <tbody>\n",
       "    <tr>\n",
       "      <th>54149</th>\n",
       "      <td>539</td>\n",
       "      <td>13</td>\n",
       "      <td>gaming</td>\n",
       "      <td>5162733.0</td>\n",
       "      <td>41547.0</td>\n",
       "    </tr>\n",
       "    <tr>\n",
       "      <th>169258</th>\n",
       "      <td>24278</td>\n",
       "      <td>13</td>\n",
       "      <td>gaming</td>\n",
       "      <td>2645253.0</td>\n",
       "      <td>21437.0</td>\n",
       "    </tr>\n",
       "    <tr>\n",
       "      <th>236048</th>\n",
       "      <td>32636</td>\n",
       "      <td>13</td>\n",
       "      <td>gaming</td>\n",
       "      <td>1037161.0</td>\n",
       "      <td>8775.0</td>\n",
       "    </tr>\n",
       "    <tr>\n",
       "      <th>50631</th>\n",
       "      <td>20906</td>\n",
       "      <td>13</td>\n",
       "      <td>gaming</td>\n",
       "      <td>1061029.0</td>\n",
       "      <td>6544.0</td>\n",
       "    </tr>\n",
       "    <tr>\n",
       "      <th>53051</th>\n",
       "      <td>526</td>\n",
       "      <td>13</td>\n",
       "      <td>gaming</td>\n",
       "      <td>526061.0</td>\n",
       "      <td>610.0</td>\n",
       "    </tr>\n",
       "  </tbody>\n",
       "</table>\n",
       "</div>"
      ],
      "text/plain": [
       "         user_id  country category      views  comments\n",
       "post_id                                                \n",
       "54149        539       13   gaming  5162733.0   41547.0\n",
       "169258     24278       13   gaming  2645253.0   21437.0\n",
       "236048     32636       13   gaming  1037161.0    8775.0\n",
       "50631      20906       13   gaming  1061029.0    6544.0\n",
       "53051        526       13   gaming   526061.0     610.0"
      ]
     },
     "execution_count": 37,
     "metadata": {},
     "output_type": "execute_result"
    }
   ],
   "source": [
    "test.head()"
   ]
  },
  {
   "cell_type": "code",
   "execution_count": null,
   "metadata": {},
   "outputs": [],
   "source": [
    "# type transform\n",
    "test.category = le.fit_transform(test.category)"
   ]
  },
  {
   "cell_type": "code",
   "execution_count": null,
   "metadata": {},
   "outputs": [],
   "source": [
    "y_test_pred = rf.predict(test)"
   ]
  },
  {
   "cell_type": "code",
   "execution_count": null,
   "metadata": {},
   "outputs": [],
   "source": [
    "df5 = pd.Series(y_test_pred)"
   ]
  },
  {
   "cell_type": "code",
   "execution_count": null,
   "metadata": {},
   "outputs": [],
   "source": [
    "# df5.to_csv(\"predict_test_without_truth.csv\")"
   ]
  },
  {
   "cell_type": "code",
   "execution_count": null,
   "metadata": {},
   "outputs": [],
   "source": [
    "# test.to_csv(\"after_cleaning_test_without_truth.csv\")"
   ]
  },
  {
   "cell_type": "code",
   "execution_count": null,
   "metadata": {},
   "outputs": [
    {
     "name": "stdout",
     "output_type": "stream",
     "text": [
      "[22:27:38] WARNING: C:/Users/Administrator/workspace/xgboost-win64_release_1.0.0/src/objective/regression_obj.cu:167: reg:linear is now deprecated in favor of reg:squarederror.\n",
      "Root Mean Square Error is: 96.66 %\n"
     ]
    }
   ],
   "source": [
    "# xgboost Regressor\n",
    "\n",
    "xgb_model = xgb.XGBRegressor(objective=\"reg:linear\", learning_rate = 0.5, n_estimators=105, random_state=42,)\n",
    "xgb_model.fit(X_train, y_train)\n",
    "y_test_pred = xgb_model.predict(X_test)\n",
    "\n",
    "print(\"Root Mean Square Error is:\", round(metrics.r2_score(y_test, y_test_pred)*100,2), '%')"
   ]
  },
  {
   "cell_type": "code",
   "execution_count": null,
   "metadata": {},
   "outputs": [
    {
     "data": {
      "text/plain": [
       "post_id\n",
       "409316      681\n",
       "27307       137\n",
       "153911    33395\n",
       "101333     6858\n",
       "62107     11677\n",
       "305919     1588\n",
       "12235      3924\n",
       "473232      715\n",
       "149469     1513\n",
       "527560      134\n",
       "Name: likes, dtype: int64"
      ]
     },
     "execution_count": 42,
     "metadata": {},
     "output_type": "execute_result"
    }
   ],
   "source": [
    "y_test[0:10]"
   ]
  },
  {
   "cell_type": "code",
   "execution_count": null,
   "metadata": {},
   "outputs": [
    {
     "data": {
      "text/plain": [
       "array([  534.3204,  5918.2563, 25192.32  , 13640.094 , 12923.319 ,\n",
       "        3412.3655,  2889.5771,  1599.8142, 12505.492 ,  1725.7172],\n",
       "      dtype=float32)"
      ]
     },
     "execution_count": 43,
     "metadata": {},
     "output_type": "execute_result"
    }
   ],
   "source": [
    "y_test_pred[0:10]"
   ]
  },
  {
   "cell_type": "markdown",
   "metadata": {},
   "source": [
    "# Conclusion: \n",
    "\n",
    "The result has shown that- very much difference between predicted likes and the actual likes due to input feature correlation as well as a pattern with target feature.\n",
    "\n",
    "Furthermore, the evaluation was made on the basis of the Root Mean Square Error (RMSE).  RMSE for Decision Tree Regressor, Random Forest Regressor and xgboost Regressor is 93.83%, 96.73% and 96.66%. The comparative results show that Random Forest Regressor and xgboost Regressor perform well than Decision Tree Regressor.\n",
    " \n"
   ]
  }
 ],
 "metadata": {
  "kernelspec": {
   "display_name": "Python 3 (ipykernel)",
   "language": "python",
   "name": "python3"
  },
  "language_info": {
   "codemirror_mode": {
    "name": "ipython",
    "version": 3
   },
   "file_extension": ".py",
   "mimetype": "text/x-python",
   "name": "python",
   "nbconvert_exporter": "python",
   "pygments_lexer": "ipython3",
   "version": "3.10.8"
  }
 },
 "nbformat": 4,
 "nbformat_minor": 4
}
