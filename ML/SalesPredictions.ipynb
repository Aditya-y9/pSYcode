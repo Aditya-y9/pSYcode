{
 "cells": [
  {
   "cell_type": "code",
   "execution_count": null,
   "metadata": {},
   "outputs": [
    {
     "ename": "",
     "evalue": "",
     "output_type": "error",
     "traceback": [
      "\u001b[1;31mFailed to start the Kernel. \n",
      "\u001b[1;31mUnable to start Kernel 'Python 3.10.8' due to a connection timeout. \n",
      "\u001b[1;31mView Jupyter <a href='command:jupyter.viewOutput'>log</a> for further details."
     ]
    }
   ],
   "source": [
    "# EDA Libraries:  \n",
    "  \n",
    "import pandas as pd  \n",
    "import numpy as np  \n",
    "  \n",
    "import matplotlib.colors as col  \n",
    "from mpl_toolkits.mplot3d import Axes3D  \n",
    "import matplotlib.pyplot as plt  \n",
    "import seaborn as sns  \n",
    "%matplotlib inline  \n",
    "  \n",
    "import datetime  \n",
    "from pathlib import Path    \n",
    "import random  \n",
    "  \n",
    "# Scikit-Learn models:  \n",
    "  \n",
    "from sklearn.preprocessing import MinMaxScaler  \n",
    "from sklearn.linear_model import LinearRegression  \n",
    "from sklearn.metrics import mean_squared_error, mean_absolute_error, r2_score  \n",
    "from sklearn.ensemble import RandomForestRegressor  \n",
    "from xgboost.sklearn import XGBRegressor  \n",
    "from sklearn.model_selection import KFold, cross_val_score, train_test_split  \n",
    "  \n",
    "# LSTM:  \n",
    "  \n",
    "import keras  \n",
    "from keras.layers import Dense  \n",
    "from keras.models import Sequential  \n",
    "from keras.callbacks import EarlyStopping  \n",
    "from keras.utils import np_utils  \n",
    "from keras.layers import LSTM  \n",
    "  \n",
    "  \n",
    "# ARIMA Model:  \n",
    "  \n",
    "import statsmodels.tsa.api as smt  \n",
    "import statsmodels.api as sm  \n",
    "from statsmodels.tools.eval_measures import rmse  \n",
    "  \n",
    "  \n",
    "import pickle  \n",
    "import warnings  "
   ]
  },
  {
   "cell_type": "code",
   "execution_count": null,
   "metadata": {},
   "outputs": [
    {
     "ename": "",
     "evalue": "",
     "output_type": "error",
     "traceback": [
      "\u001b[1;31mFailed to start the Kernel. \n",
      "\u001b[1;31mUnable to start Kernel 'Python 3.10.8' due to a connection timeout. \n",
      "\u001b[1;31mView Jupyter <a href='command:jupyter.viewOutput'>log</a> for further details."
     ]
    }
   ],
   "source": [
    "warnings.filterwarnings(\"ignore\", category=FutureWarning)  \n",
    "dataset = pd.read_csv('../input/demand-forecasting-kernels-only/sample_submission.csv')  \n",
    "df = dataset.copy()  \n",
    "df.head()  "
   ]
  },
  {
   "cell_type": "code",
   "execution_count": null,
   "metadata": {},
   "outputs": [
    {
     "ename": "",
     "evalue": "",
     "output_type": "error",
     "traceback": [
      "\u001b[1;31mFailed to start the Kernel. \n",
      "\u001b[1;31mUnable to start Kernel 'Python 3.10.8' due to a connection timeout. \n",
      "\u001b[1;31mView Jupyter <a href='command:jupyter.viewOutput'>log</a> for further details."
     ]
    }
   ],
   "source": []
  }
 ],
 "metadata": {
  "kernelspec": {
   "display_name": "Python 3",
   "language": "python",
   "name": "python3"
  },
  "language_info": {
   "name": "python",
   "version": "3.10.8"
  }
 },
 "nbformat": 4,
 "nbformat_minor": 2
}
