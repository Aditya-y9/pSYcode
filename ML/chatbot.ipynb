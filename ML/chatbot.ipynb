{
 "cells": [
  {
   "cell_type": "code",
   "execution_count": 1,
   "id": "97046dd9",
   "metadata": {},
   "outputs": [
    {
     "name": "stderr",
     "output_type": "stream",
     "text": [
      "c:\\Users\\MSHOME\\AppData\\Local\\Programs\\Python\\Python310\\lib\\site-packages\\tqdm\\auto.py:21: TqdmWarning: IProgress not found. Please update jupyter and ipywidgets. See https://ipywidgets.readthedocs.io/en/stable/user_install.html\n",
      "  from .autonotebook import tqdm as notebook_tqdm\n"
     ]
    }
   ],
   "source": [
    "from transformers import AutoTokenizer, AutoModelForSeq2SeqLM\n",
    "\n",
    "# tokenizer = AutoTokenizer.from_pretrained(\"facebook/blenderbot_small-90M\")\n",
    "\n",
    "# model = AutoModelForSeq2SeqLM.from_pretrained(\"facebook/blenderbot_small-90M\")\n",
    "\n",
    "mname = \"facebook/blenderbot-3B\"\n"
   ]
  },
  {
   "cell_type": "code",
   "execution_count": 2,
   "id": "4f26e5be",
   "metadata": {},
   "outputs": [
    {
     "name": "stderr",
     "output_type": "stream",
     "text": [
      "c:\\Users\\MSHOME\\AppData\\Local\\Programs\\Python\\Python310\\lib\\site-packages\\torch\\_utils.py:831: UserWarning: TypedStorage is deprecated. It will be removed in the future and UntypedStorage will be the only storage class. This should only matter to you if you are using storages directly.  To access UntypedStorage directly, use tensor.untyped_storage() instead of tensor.storage()\n",
      "  return self.fget.__get__(instance, owner)()\n"
     ]
    },
    {
     "ename": "",
     "evalue": "",
     "output_type": "error",
     "traceback": [
      "\u001b[1;31mThe Kernel crashed while executing code in the current cell or a previous cell. \n",
      "\u001b[1;31mPlease review the code in the cell(s) to identify a possible cause of the failure. \n",
      "\u001b[1;31mClick <a href='https://aka.ms/vscodeJupyterKernelCrash'>here</a> for more info. \n",
      "\u001b[1;31mView Jupyter <a href='command:jupyter.viewOutput'>log</a> for further details."
     ]
    }
   ],
   "source": [
    "model = AutoModelForSeq2SeqLM.from_pretrained(mname)\n",
    "tokenizer = AutoTokenizer.from_pretrained(mname)\n",
    "UTTERANCE = \"My friends are cool but they eat too many carbs.\"\n",
    "inputs = tokenizer([UTTERANCE], return_tensors=\"pt\")\n",
    "reply_ids = model.generate(**inputs)\n",
    "print(tokenizer.batch_decode(reply_ids))"
   ]
  },
  {
   "cell_type": "code",
   "execution_count": null,
   "id": "bccad2ca",
   "metadata": {},
   "outputs": [],
   "source": [
    "def respond(message, model=model, tokenizer=tokenizer):\n",
    "    UTTERANCE = message\n",
    "    inputs = tokenizer([UTTERANCE], return_tensors=\"pt\")\n",
    "    reply_ids = model.generate(**inputs)\n",
    "    print(tokenizer.batch_decode(reply_ids))"
   ]
  },
  {
   "cell_type": "code",
   "execution_count": null,
   "id": "23dff7ce",
   "metadata": {},
   "outputs": [
    {
     "name": "stdout",
     "output_type": "stream",
     "text": [
      "[\"__start__ you're welcome. what do you like to do for fun? i'm always looking for new things to do. __end__\"]\n"
     ]
    }
   ],
   "source": [
    "respond(\"Thank you for talking to me :)\")"
   ]
  },
  {
   "cell_type": "code",
   "execution_count": null,
   "id": "24f69807",
   "metadata": {},
   "outputs": [
    {
     "name": "stdout",
     "output_type": "stream",
     "text": [
      "[\"__start__ it's 1am here. i'm going to have to get up early to go to work. __end__\"]\n"
     ]
    }
   ],
   "source": [
    "respond(\"what time is it?\")"
   ]
  },
  {
   "cell_type": "code",
   "execution_count": null,
   "id": "b752a548",
   "metadata": {},
   "outputs": [
    {
     "name": "stdout",
     "output_type": "stream",
     "text": [
      "[\"__start__ it's a game that's been around for a long time. it was first released in 2007. __end__\"]\n"
     ]
    }
   ],
   "source": [
    "respond(\"what is Node.js?\")"
   ]
  },
  {
   "cell_type": "code",
   "execution_count": null,
   "id": "788b35cc",
   "metadata": {},
   "outputs": [
    {
     "name": "stdout",
     "output_type": "stream",
     "text": [
      "['__start__ i like to play video games and watch netflix. do you play any video games? __end__']\n"
     ]
    }
   ],
   "source": [
    "respond(\"What do you do for fun?\")"
   ]
  },
  {
   "cell_type": "code",
   "execution_count": null,
   "id": "29c9afdc",
   "metadata": {},
   "outputs": [
    {
     "name": "stdout",
     "output_type": "stream",
     "text": [
      "[\"__start__ i don't like video games at all. i'm not a gamer at all __end__\"]\n"
     ]
    }
   ],
   "source": [
    "respond(\"No, I think video games are for noobs\")"
   ]
  },
  {
   "cell_type": "code",
   "execution_count": null,
   "id": "0289d628",
   "metadata": {},
   "outputs": [
    {
     "name": "stdout",
     "output_type": "stream",
     "text": [
      "[\"__start__ i'm not sure how to do digital marketing, but i know it's a form of social media marketing. __end__\"]\n"
     ]
    }
   ],
   "source": [
    "respond(\"how to do digital marketing?\")"
   ]
  },
  {
   "cell_type": "code",
   "execution_count": null,
   "id": "b120f470",
   "metadata": {},
   "outputs": [],
   "source": []
  },
  {
   "cell_type": "code",
   "execution_count": null,
   "id": "6c65e0bc",
   "metadata": {},
   "outputs": [],
   "source": []
  }
 ],
 "metadata": {
  "kernelspec": {
   "display_name": "Python 3 (ipykernel)",
   "language": "python",
   "name": "python3"
  },
  "language_info": {
   "codemirror_mode": {
    "name": "ipython",
    "version": 3
   },
   "file_extension": ".py",
   "mimetype": "text/x-python",
   "name": "python",
   "nbconvert_exporter": "python",
   "pygments_lexer": "ipython3",
   "version": "3.10.8"
  }
 },
 "nbformat": 4,
 "nbformat_minor": 5
}
