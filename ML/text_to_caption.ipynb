{
 "cells": [
  {
   "cell_type": "code",
   "execution_count": null,
   "metadata": {},
   "outputs": [],
   "source": [
    "\n",
    "t5_tokenizer = AutoTokenizer.from_pretrained('text-to-social-media-captions')\n",
    "t5_model = AutoModelForSeq2SeqLM.from_pretrained('text-to-social-media-captions')"
   ]
  },
  {
   "cell_type": "code",
   "execution_count": null,
   "metadata": {},
   "outputs": [],
   "source": [
    "def generate_caption(text = \"\"\"a woman playing soccer\"\"\"):\n",
    "    \n",
    "    inputs = [\"captionize: \" + text]\n",
    "    \n",
    "    inputs = t5_tokenizer(inputs, max_length=512, truncation=True, return_tensors=\"pt\")\n",
    "    output = t5_model.generate(**inputs, num_beams=8, do_sample=True, min_length=10, max_length=64)\n",
    "    decoded_output = t5_tokenizer.batch_decode(output, skip_special_tokens=True)[0]\n",
    "    \n",
    "    return decoded_output"
   ]
  },
  {
   "cell_type": "code",
   "execution_count": null,
   "metadata": {},
   "outputs": [],
   "source": []
  }
 ],
 "metadata": {
  "language_info": {
   "name": "python"
  }
 },
 "nbformat": 4,
 "nbformat_minor": 2
}
